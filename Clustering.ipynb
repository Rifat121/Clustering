{
 "cells": [
  {
   "cell_type": "code",
   "execution_count": 75,
   "metadata": {},
   "outputs": [
    {
     "data": {
      "text/html": [
       "<div>\n",
       "<style scoped>\n",
       "    .dataframe tbody tr th:only-of-type {\n",
       "        vertical-align: middle;\n",
       "    }\n",
       "\n",
       "    .dataframe tbody tr th {\n",
       "        vertical-align: top;\n",
       "    }\n",
       "\n",
       "    .dataframe thead th {\n",
       "        text-align: right;\n",
       "    }\n",
       "</style>\n",
       "<table border=\"1\" class=\"dataframe\">\n",
       "  <thead>\n",
       "    <tr style=\"text-align: right;\">\n",
       "      <th></th>\n",
       "      <th>Name</th>\n",
       "      <th>Place name</th>\n",
       "      <th>Place type</th>\n",
       "      <th>SuperType</th>\n",
       "    </tr>\n",
       "  </thead>\n",
       "  <tbody>\n",
       "    <tr>\n",
       "      <td>0</td>\n",
       "      <td>Kevin Vasquez</td>\n",
       "      <td>Diaz-Anderson</td>\n",
       "      <td>travel agency</td>\n",
       "      <td>Travel</td>\n",
       "    </tr>\n",
       "    <tr>\n",
       "      <td>1</td>\n",
       "      <td>NaN</td>\n",
       "      <td>Wong, Myers and Peters</td>\n",
       "      <td>hospital</td>\n",
       "      <td>Health</td>\n",
       "    </tr>\n",
       "    <tr>\n",
       "      <td>2</td>\n",
       "      <td>NaN</td>\n",
       "      <td>Malone-Mcconnell</td>\n",
       "      <td>physiotherapist</td>\n",
       "      <td>Health</td>\n",
       "    </tr>\n",
       "    <tr>\n",
       "      <td>3</td>\n",
       "      <td>NaN</td>\n",
       "      <td>Frazier-Alvarado</td>\n",
       "      <td>rv park</td>\n",
       "      <td>Store</td>\n",
       "    </tr>\n",
       "    <tr>\n",
       "      <td>4</td>\n",
       "      <td>NaN</td>\n",
       "      <td>Sweeney, Jones and Reynolds</td>\n",
       "      <td>lawyer</td>\n",
       "      <td>Service</td>\n",
       "    </tr>\n",
       "  </tbody>\n",
       "</table>\n",
       "</div>"
      ],
      "text/plain": [
       "            Name                   Place name       Place type SuperType\n",
       "0  Kevin Vasquez                Diaz-Anderson    travel agency    Travel\n",
       "1            NaN       Wong, Myers and Peters         hospital    Health\n",
       "2            NaN             Malone-Mcconnell  physiotherapist    Health\n",
       "3            NaN             Frazier-Alvarado          rv park     Store\n",
       "4            NaN  Sweeney, Jones and Reynolds           lawyer   Service"
      ]
     },
     "execution_count": 75,
     "metadata": {},
     "output_type": "execute_result"
    }
   ],
   "source": [
    "import itertools\n",
    "import numpy as np\n",
    "import matplotlib.pyplot as plt\n",
    "from matplotlib.ticker import NullFormatter\n",
    "import pandas as pd\n",
    "import matplotlib.ticker as ticker\n",
    "from sklearn import preprocessing\n",
    "\n",
    "df = pd.read_excel(r'C:\\Users\\Rif010\\Desktop\\Clustering\\Cluster.xlsx', sheet_name=\"People Records\")\n",
    "df.head()"
   ]
  },
  {
   "cell_type": "code",
   "execution_count": 76,
   "metadata": {},
   "outputs": [
    {
     "data": {
      "text/plain": [
       "(10001, 4)"
      ]
     },
     "execution_count": 76,
     "metadata": {},
     "output_type": "execute_result"
    }
   ],
   "source": [
    "df.shape"
   ]
  },
  {
   "cell_type": "code",
   "execution_count": 77,
   "metadata": {},
   "outputs": [
    {
     "data": {
      "text/html": [
       "<div>\n",
       "<style scoped>\n",
       "    .dataframe tbody tr th:only-of-type {\n",
       "        vertical-align: middle;\n",
       "    }\n",
       "\n",
       "    .dataframe tbody tr th {\n",
       "        vertical-align: top;\n",
       "    }\n",
       "\n",
       "    .dataframe thead th {\n",
       "        text-align: right;\n",
       "    }\n",
       "</style>\n",
       "<table border=\"1\" class=\"dataframe\">\n",
       "  <thead>\n",
       "    <tr style=\"text-align: right;\">\n",
       "      <th></th>\n",
       "      <th>Place name</th>\n",
       "      <th>Place type</th>\n",
       "      <th>SuperType</th>\n",
       "    </tr>\n",
       "  </thead>\n",
       "  <tbody>\n",
       "    <tr>\n",
       "      <td>0</td>\n",
       "      <td>Diaz-Anderson</td>\n",
       "      <td>travel agency</td>\n",
       "      <td>Travel</td>\n",
       "    </tr>\n",
       "    <tr>\n",
       "      <td>1</td>\n",
       "      <td>Wong, Myers and Peters</td>\n",
       "      <td>hospital</td>\n",
       "      <td>Health</td>\n",
       "    </tr>\n",
       "    <tr>\n",
       "      <td>2</td>\n",
       "      <td>Malone-Mcconnell</td>\n",
       "      <td>physiotherapist</td>\n",
       "      <td>Health</td>\n",
       "    </tr>\n",
       "    <tr>\n",
       "      <td>3</td>\n",
       "      <td>Frazier-Alvarado</td>\n",
       "      <td>rv park</td>\n",
       "      <td>Store</td>\n",
       "    </tr>\n",
       "    <tr>\n",
       "      <td>4</td>\n",
       "      <td>Sweeney, Jones and Reynolds</td>\n",
       "      <td>lawyer</td>\n",
       "      <td>Service</td>\n",
       "    </tr>\n",
       "  </tbody>\n",
       "</table>\n",
       "</div>"
      ],
      "text/plain": [
       "                    Place name       Place type SuperType\n",
       "0                Diaz-Anderson    travel agency    Travel\n",
       "1       Wong, Myers and Peters         hospital    Health\n",
       "2             Malone-Mcconnell  physiotherapist    Health\n",
       "3             Frazier-Alvarado          rv park     Store\n",
       "4  Sweeney, Jones and Reynolds           lawyer   Service"
      ]
     },
     "execution_count": 77,
     "metadata": {},
     "output_type": "execute_result"
    }
   ],
   "source": [
    "df.drop('Name',1, inplace=True)\n",
    "df.head()"
   ]
  },
  {
   "cell_type": "code",
   "execution_count": 78,
   "metadata": {},
   "outputs": [
    {
     "data": {
      "text/html": [
       "<div>\n",
       "<style scoped>\n",
       "    .dataframe tbody tr th:only-of-type {\n",
       "        vertical-align: middle;\n",
       "    }\n",
       "\n",
       "    .dataframe tbody tr th {\n",
       "        vertical-align: top;\n",
       "    }\n",
       "\n",
       "    .dataframe thead th {\n",
       "        text-align: right;\n",
       "    }\n",
       "</style>\n",
       "<table border=\"1\" class=\"dataframe\">\n",
       "  <thead>\n",
       "    <tr style=\"text-align: right;\">\n",
       "      <th></th>\n",
       "      <th>Place name</th>\n",
       "      <th>Place type</th>\n",
       "      <th>SuperType</th>\n",
       "    </tr>\n",
       "  </thead>\n",
       "  <tbody>\n",
       "    <tr>\n",
       "      <td>0</td>\n",
       "      <td>Diaz-Anderson</td>\n",
       "      <td>travel agency</td>\n",
       "      <td>Travel</td>\n",
       "    </tr>\n",
       "    <tr>\n",
       "      <td>1</td>\n",
       "      <td>Wong, Myers and Peters</td>\n",
       "      <td>hospital</td>\n",
       "      <td>Health</td>\n",
       "    </tr>\n",
       "    <tr>\n",
       "      <td>2</td>\n",
       "      <td>Malone-Mcconnell</td>\n",
       "      <td>physiotherapist</td>\n",
       "      <td>Health</td>\n",
       "    </tr>\n",
       "    <tr>\n",
       "      <td>3</td>\n",
       "      <td>Frazier-Alvarado</td>\n",
       "      <td>rv park</td>\n",
       "      <td>Store</td>\n",
       "    </tr>\n",
       "    <tr>\n",
       "      <td>4</td>\n",
       "      <td>Sweeney, Jones and Reynolds</td>\n",
       "      <td>lawyer</td>\n",
       "      <td>Service</td>\n",
       "    </tr>\n",
       "    <tr>\n",
       "      <td>5</td>\n",
       "      <td>Dyer and Sons</td>\n",
       "      <td>veterinary care</td>\n",
       "      <td>Health</td>\n",
       "    </tr>\n",
       "    <tr>\n",
       "      <td>6</td>\n",
       "      <td>Carson-Morgan</td>\n",
       "      <td>synagogue</td>\n",
       "      <td>Religious</td>\n",
       "    </tr>\n",
       "    <tr>\n",
       "      <td>7</td>\n",
       "      <td>Joyce-Fox</td>\n",
       "      <td>shoe store</td>\n",
       "      <td>Store</td>\n",
       "    </tr>\n",
       "    <tr>\n",
       "      <td>8</td>\n",
       "      <td>Calhoun, Bradshaw and Ruiz</td>\n",
       "      <td>bakery</td>\n",
       "      <td>Food</td>\n",
       "    </tr>\n",
       "    <tr>\n",
       "      <td>9</td>\n",
       "      <td>Stephens-Jacobson</td>\n",
       "      <td>casino</td>\n",
       "      <td>Recreation</td>\n",
       "    </tr>\n",
       "  </tbody>\n",
       "</table>\n",
       "</div>"
      ],
      "text/plain": [
       "                    Place name       Place type   SuperType\n",
       "0                Diaz-Anderson    travel agency      Travel\n",
       "1       Wong, Myers and Peters         hospital      Health\n",
       "2             Malone-Mcconnell  physiotherapist      Health\n",
       "3             Frazier-Alvarado          rv park       Store\n",
       "4  Sweeney, Jones and Reynolds           lawyer     Service\n",
       "5                Dyer and Sons  veterinary care      Health\n",
       "6                Carson-Morgan        synagogue   Religious\n",
       "7                    Joyce-Fox       shoe store       Store\n",
       "8   Calhoun, Bradshaw and Ruiz           bakery        Food\n",
       "9            Stephens-Jacobson           casino  Recreation"
      ]
     },
     "execution_count": 78,
     "metadata": {},
     "output_type": "execute_result"
    }
   ],
   "source": [
    "df.head(10)"
   ]
  },
  {
   "cell_type": "code",
   "execution_count": 79,
   "metadata": {},
   "outputs": [
    {
     "data": {
      "text/plain": [
       "Place type       SuperType \n",
       "airport          Travel        1.0\n",
       "amusement park   Recreation    1.0\n",
       "aquarium         Recreation    1.0\n",
       "art gallery      Recreation    1.0\n",
       "atm              Finance       1.0\n",
       "                              ... \n",
       "train station    Travel        1.0\n",
       "transit station  Travel        1.0\n",
       "travel agency    Travel        1.0\n",
       "veterinary care  Health        1.0\n",
       "zoo              Recreation    1.0\n",
       "Name: SuperType, Length: 89, dtype: float64"
      ]
     },
     "execution_count": 79,
     "metadata": {},
     "output_type": "execute_result"
    }
   ],
   "source": [
    "df.groupby(['Place type'])['SuperType'].value_counts(normalize=True)"
   ]
  },
  {
   "cell_type": "code",
   "execution_count": 80,
   "metadata": {},
   "outputs": [
    {
     "data": {
      "text/plain": [
       "SuperType  Place type      \n",
       "Finance    bank                123\n",
       "           atm                  80\n",
       "           insurance agency     62\n",
       "Food       bakery              175\n",
       "           cafe                 92\n",
       "                              ... \n",
       "Travel     airport             105\n",
       "           gas station          89\n",
       "           campground           72\n",
       "           bus station          67\n",
       "           subway station       48\n",
       "Name: Place type, Length: 89, dtype: int64"
      ]
     },
     "execution_count": 80,
     "metadata": {},
     "output_type": "execute_result"
    }
   ],
   "source": [
    "df.groupby(['SuperType'])['Place type'].value_counts()"
   ]
  },
  {
   "cell_type": "code",
   "execution_count": 81,
   "metadata": {},
   "outputs": [
    {
     "data": {
      "text/html": [
       "<div>\n",
       "<style scoped>\n",
       "    .dataframe tbody tr th:only-of-type {\n",
       "        vertical-align: middle;\n",
       "    }\n",
       "\n",
       "    .dataframe tbody tr th {\n",
       "        vertical-align: top;\n",
       "    }\n",
       "\n",
       "    .dataframe thead th {\n",
       "        text-align: right;\n",
       "    }\n",
       "</style>\n",
       "<table border=\"1\" class=\"dataframe\">\n",
       "  <thead>\n",
       "    <tr style=\"text-align: right;\">\n",
       "      <th></th>\n",
       "      <th>airport</th>\n",
       "      <th>amusement park</th>\n",
       "      <th>aquarium</th>\n",
       "      <th>art gallery</th>\n",
       "      <th>atm</th>\n",
       "      <th>bakery</th>\n",
       "      <th>bank</th>\n",
       "      <th>bar</th>\n",
       "      <th>beauty salon</th>\n",
       "      <th>bicycle store</th>\n",
       "      <th>...</th>\n",
       "      <th>store</th>\n",
       "      <th>subway station</th>\n",
       "      <th>supermarket</th>\n",
       "      <th>synagogue</th>\n",
       "      <th>taxi stand</th>\n",
       "      <th>train station</th>\n",
       "      <th>transit station</th>\n",
       "      <th>travel agency</th>\n",
       "      <th>veterinary care</th>\n",
       "      <th>zoo</th>\n",
       "    </tr>\n",
       "  </thead>\n",
       "  <tbody>\n",
       "    <tr>\n",
       "      <td>0</td>\n",
       "      <td>0</td>\n",
       "      <td>0</td>\n",
       "      <td>0</td>\n",
       "      <td>0</td>\n",
       "      <td>0</td>\n",
       "      <td>0</td>\n",
       "      <td>0</td>\n",
       "      <td>0</td>\n",
       "      <td>0</td>\n",
       "      <td>0</td>\n",
       "      <td>...</td>\n",
       "      <td>0</td>\n",
       "      <td>0</td>\n",
       "      <td>0</td>\n",
       "      <td>0</td>\n",
       "      <td>0</td>\n",
       "      <td>0</td>\n",
       "      <td>0</td>\n",
       "      <td>1</td>\n",
       "      <td>0</td>\n",
       "      <td>0</td>\n",
       "    </tr>\n",
       "    <tr>\n",
       "      <td>1</td>\n",
       "      <td>0</td>\n",
       "      <td>0</td>\n",
       "      <td>0</td>\n",
       "      <td>0</td>\n",
       "      <td>0</td>\n",
       "      <td>0</td>\n",
       "      <td>0</td>\n",
       "      <td>0</td>\n",
       "      <td>0</td>\n",
       "      <td>0</td>\n",
       "      <td>...</td>\n",
       "      <td>0</td>\n",
       "      <td>0</td>\n",
       "      <td>0</td>\n",
       "      <td>0</td>\n",
       "      <td>0</td>\n",
       "      <td>0</td>\n",
       "      <td>0</td>\n",
       "      <td>0</td>\n",
       "      <td>0</td>\n",
       "      <td>0</td>\n",
       "    </tr>\n",
       "    <tr>\n",
       "      <td>2</td>\n",
       "      <td>0</td>\n",
       "      <td>0</td>\n",
       "      <td>0</td>\n",
       "      <td>0</td>\n",
       "      <td>0</td>\n",
       "      <td>0</td>\n",
       "      <td>0</td>\n",
       "      <td>0</td>\n",
       "      <td>0</td>\n",
       "      <td>0</td>\n",
       "      <td>...</td>\n",
       "      <td>0</td>\n",
       "      <td>0</td>\n",
       "      <td>0</td>\n",
       "      <td>0</td>\n",
       "      <td>0</td>\n",
       "      <td>0</td>\n",
       "      <td>0</td>\n",
       "      <td>0</td>\n",
       "      <td>0</td>\n",
       "      <td>0</td>\n",
       "    </tr>\n",
       "    <tr>\n",
       "      <td>3</td>\n",
       "      <td>0</td>\n",
       "      <td>0</td>\n",
       "      <td>0</td>\n",
       "      <td>0</td>\n",
       "      <td>0</td>\n",
       "      <td>0</td>\n",
       "      <td>0</td>\n",
       "      <td>0</td>\n",
       "      <td>0</td>\n",
       "      <td>0</td>\n",
       "      <td>...</td>\n",
       "      <td>0</td>\n",
       "      <td>0</td>\n",
       "      <td>0</td>\n",
       "      <td>0</td>\n",
       "      <td>0</td>\n",
       "      <td>0</td>\n",
       "      <td>0</td>\n",
       "      <td>0</td>\n",
       "      <td>0</td>\n",
       "      <td>0</td>\n",
       "    </tr>\n",
       "    <tr>\n",
       "      <td>4</td>\n",
       "      <td>0</td>\n",
       "      <td>0</td>\n",
       "      <td>0</td>\n",
       "      <td>0</td>\n",
       "      <td>0</td>\n",
       "      <td>0</td>\n",
       "      <td>0</td>\n",
       "      <td>0</td>\n",
       "      <td>0</td>\n",
       "      <td>0</td>\n",
       "      <td>...</td>\n",
       "      <td>0</td>\n",
       "      <td>0</td>\n",
       "      <td>0</td>\n",
       "      <td>0</td>\n",
       "      <td>0</td>\n",
       "      <td>0</td>\n",
       "      <td>0</td>\n",
       "      <td>0</td>\n",
       "      <td>0</td>\n",
       "      <td>0</td>\n",
       "    </tr>\n",
       "  </tbody>\n",
       "</table>\n",
       "<p>5 rows × 89 columns</p>\n",
       "</div>"
      ],
      "text/plain": [
       "   airport  amusement park  aquarium  art gallery  atm  bakery  bank  bar  \\\n",
       "0        0               0         0            0    0       0     0    0   \n",
       "1        0               0         0            0    0       0     0    0   \n",
       "2        0               0         0            0    0       0     0    0   \n",
       "3        0               0         0            0    0       0     0    0   \n",
       "4        0               0         0            0    0       0     0    0   \n",
       "\n",
       "   beauty salon  bicycle store  ...  store  subway station  supermarket  \\\n",
       "0             0              0  ...      0               0            0   \n",
       "1             0              0  ...      0               0            0   \n",
       "2             0              0  ...      0               0            0   \n",
       "3             0              0  ...      0               0            0   \n",
       "4             0              0  ...      0               0            0   \n",
       "\n",
       "   synagogue  taxi stand  train station  transit station  travel agency  \\\n",
       "0          0           0              0                0              1   \n",
       "1          0           0              0                0              0   \n",
       "2          0           0              0                0              0   \n",
       "3          0           0              0                0              0   \n",
       "4          0           0              0                0              0   \n",
       "\n",
       "   veterinary care  zoo  \n",
       "0                0    0  \n",
       "1                0    0  \n",
       "2                0    0  \n",
       "3                0    0  \n",
       "4                0    0  \n",
       "\n",
       "[5 rows x 89 columns]"
      ]
     },
     "execution_count": 81,
     "metadata": {},
     "output_type": "execute_result"
    }
   ],
   "source": [
    "\n",
    "Feature = pd.get_dummies(df['Place type'])\n",
    "Feature.head()"
   ]
  },
  {
   "cell_type": "code",
   "execution_count": 82,
   "metadata": {},
   "outputs": [
    {
     "data": {
      "text/plain": [
       "array([11.,  3.,  3.,  9.,  8.,  3.,  7.,  9.,  2.,  6.])"
      ]
     },
     "execution_count": 82,
     "metadata": {},
     "output_type": "execute_result"
    }
   ],
   "source": [
    "y = df['SuperType'].replace(to_replace=['Finance','Food','Health','Job','Luxury','Recreation','Religious','Service','Store','Study','Travel'], value=[1,2,3,4,5,6,7,8,9,10,11]).values\n",
    "y[0:10]"
   ]
  },
  {
   "cell_type": "code",
   "execution_count": 83,
   "metadata": {},
   "outputs": [
    {
     "data": {
      "text/plain": [
       "array([[-0.10300654, -0.06415969, -0.10399344, -0.11565127, -0.08979813,\n",
       "        -0.13345371, -0.11158814, -0.06797642, -0.13614512, -0.14857525,\n",
       "        -0.0999899 , -0.10973649, -0.08212499, -0.09635605, -0.08515565,\n",
       "        -0.08808501, -0.09635605, -0.08212499, -0.12422978, -0.11386242,\n",
       "        -0.08865961, -0.11431212, -0.11112798, -0.09258512, -0.09203425,\n",
       "        -0.08633897, -0.11250309, -0.11741428, -0.05840597, -0.09036217,\n",
       "        -0.10250968, -0.09475767, -0.10594082, -0.06336924, -0.12871833,\n",
       "        -0.11204651, -0.09475767, -0.1054572 , -0.11609439, -0.08923062,\n",
       "        -0.11431212, -0.11158814, -0.12171612, -0.07898134, -0.13953469,\n",
       "        -0.12086731, -0.08515565, -0.13538121, -0.10448354, -0.04246252,\n",
       "        -0.14211931, -0.08865961, -0.09635605, -0.08979813, -0.09148018,\n",
       "        -0.07637571, -0.11785113, -0.07571063, -0.12171612, -0.12381417,\n",
       "        -0.12339725, -0.12710332, -0.11386242, -0.10150897, -0.11520652,\n",
       "        -0.12297899, -0.10399344, -0.11697588, -0.13189286, -0.1054572 ,\n",
       "        -0.08455797, -0.09313284, -0.12001285, -0.07016861, -0.16175469,\n",
       "        -0.13766113, -0.11785113, -0.08273976, -0.08515565, -0.12086731,\n",
       "        -0.06944542, -0.06871477, -0.08515565, -0.10594082, -0.10448354,\n",
       "        -0.12213845,  6.81161539, -0.11341103, -0.12831636],\n",
       "       [-0.10300654, -0.06415969, -0.10399344, -0.11565127, -0.08979813,\n",
       "        -0.13345371, -0.11158814, -0.06797642, -0.13614512, -0.14857525,\n",
       "        -0.0999899 , -0.10973649, -0.08212499, -0.09635605, -0.08515565,\n",
       "        -0.08808501, -0.09635605, -0.08212499, -0.12422978, -0.11386242,\n",
       "        -0.08865961, -0.11431212, -0.11112798, -0.09258512, -0.09203425,\n",
       "        -0.08633897, -0.11250309, -0.11741428, -0.05840597, -0.09036217,\n",
       "        -0.10250968, -0.09475767, -0.10594082, -0.06336924, -0.12871833,\n",
       "        -0.11204651, -0.09475767, -0.1054572 , -0.11609439, -0.08923062,\n",
       "        -0.11431212, -0.11158814,  8.21583836, -0.07898134, -0.13953469,\n",
       "        -0.12086731, -0.08515565, -0.13538121, -0.10448354, -0.04246252,\n",
       "        -0.14211931, -0.08865961, -0.09635605, -0.08979813, -0.09148018,\n",
       "        -0.07637571, -0.11785113, -0.07571063, -0.12171612, -0.12381417,\n",
       "        -0.12339725, -0.12710332, -0.11386242, -0.10150897, -0.11520652,\n",
       "        -0.12297899, -0.10399344, -0.11697588, -0.13189286, -0.1054572 ,\n",
       "        -0.08455797, -0.09313284, -0.12001285, -0.07016861, -0.16175469,\n",
       "        -0.13766113, -0.11785113, -0.08273976, -0.08515565, -0.12086731,\n",
       "        -0.06944542, -0.06871477, -0.08515565, -0.10594082, -0.10448354,\n",
       "        -0.12213845, -0.14680805, -0.11341103, -0.12831636],\n",
       "       [-0.10300654, -0.06415969, -0.10399344, -0.11565127, -0.08979813,\n",
       "        -0.13345371, -0.11158814, -0.06797642, -0.13614512, -0.14857525,\n",
       "        -0.0999899 , -0.10973649, -0.08212499, -0.09635605, -0.08515565,\n",
       "        -0.08808501, -0.09635605, -0.08212499, -0.12422978, -0.11386242,\n",
       "        -0.08865961, -0.11431212, -0.11112798, -0.09258512, -0.09203425,\n",
       "        -0.08633897, -0.11250309, -0.11741428, -0.05840597, -0.09036217,\n",
       "        -0.10250968, -0.09475767, -0.10594082, -0.06336924, -0.12871833,\n",
       "        -0.11204651, -0.09475767, -0.1054572 , -0.11609439, -0.08923062,\n",
       "        -0.11431212, -0.11158814, -0.12171612, -0.07898134, -0.13953469,\n",
       "        -0.12086731, -0.08515565, -0.13538121, -0.10448354, -0.04246252,\n",
       "        -0.14211931, -0.08865961, -0.09635605, -0.08979813, -0.09148018,\n",
       "        -0.07637571, -0.11785113, -0.07571063, -0.12171612, -0.12381417,\n",
       "        -0.12339725, -0.12710332, -0.11386242, -0.10150897, -0.11520652,\n",
       "         8.13147006, -0.10399344, -0.11697588, -0.13189286, -0.1054572 ,\n",
       "        -0.08455797, -0.09313284, -0.12001285, -0.07016861, -0.16175469,\n",
       "        -0.13766113, -0.11785113, -0.08273976, -0.08515565, -0.12086731,\n",
       "        -0.06944542, -0.06871477, -0.08515565, -0.10594082, -0.10448354,\n",
       "        -0.12213845, -0.14680805, -0.11341103, -0.12831636],\n",
       "       [-0.10300654, -0.06415969, -0.10399344, -0.11565127, -0.08979813,\n",
       "        -0.13345371, -0.11158814, -0.06797642, -0.13614512, -0.14857525,\n",
       "        -0.0999899 , -0.10973649, -0.08212499, -0.09635605, -0.08515565,\n",
       "        -0.08808501, -0.09635605, -0.08212499, -0.12422978, -0.11386242,\n",
       "        -0.08865961, -0.11431212, -0.11112798, -0.09258512, -0.09203425,\n",
       "        -0.08633897, -0.11250309, -0.11741428, -0.05840597, -0.09036217,\n",
       "        -0.10250968, -0.09475767, -0.10594082, -0.06336924, -0.12871833,\n",
       "        -0.11204651, -0.09475767, -0.1054572 , -0.11609439, -0.08923062,\n",
       "        -0.11431212, -0.11158814, -0.12171612, -0.07898134, -0.13953469,\n",
       "        -0.12086731, -0.08515565, -0.13538121, -0.10448354, -0.04246252,\n",
       "        -0.14211931, -0.08865961, -0.09635605, -0.08979813, -0.09148018,\n",
       "        -0.07637571, -0.11785113, -0.07571063, -0.12171612, -0.12381417,\n",
       "        -0.12339725, -0.12710332, -0.11386242, -0.10150897, -0.11520652,\n",
       "        -0.12297899, -0.10399344, -0.11697588, -0.13189286, -0.1054572 ,\n",
       "        -0.08455797, -0.09313284,  8.33244127, -0.07016861, -0.16175469,\n",
       "        -0.13766113, -0.11785113, -0.08273976, -0.08515565, -0.12086731,\n",
       "        -0.06944542, -0.06871477, -0.08515565, -0.10594082, -0.10448354,\n",
       "        -0.12213845, -0.14680805, -0.11341103, -0.12831636],\n",
       "       [-0.10300654, -0.06415969, -0.10399344, -0.11565127, -0.08979813,\n",
       "        -0.13345371, -0.11158814, -0.06797642, -0.13614512, -0.14857525,\n",
       "        -0.0999899 , -0.10973649, -0.08212499, -0.09635605, -0.08515565,\n",
       "        -0.08808501, -0.09635605, -0.08212499, -0.12422978, -0.11386242,\n",
       "        -0.08865961, -0.11431212, -0.11112798, -0.09258512, -0.09203425,\n",
       "        -0.08633897, -0.11250309, -0.11741428, -0.05840597, -0.09036217,\n",
       "        -0.10250968, -0.09475767, -0.10594082, -0.06336924, -0.12871833,\n",
       "        -0.11204651, -0.09475767, -0.1054572 , -0.11609439, -0.08923062,\n",
       "        -0.11431212, -0.11158814, -0.12171612, -0.07898134, -0.13953469,\n",
       "        -0.12086731, 11.74320134, -0.13538121, -0.10448354, -0.04246252,\n",
       "        -0.14211931, -0.08865961, -0.09635605, -0.08979813, -0.09148018,\n",
       "        -0.07637571, -0.11785113, -0.07571063, -0.12171612, -0.12381417,\n",
       "        -0.12339725, -0.12710332, -0.11386242, -0.10150897, -0.11520652,\n",
       "        -0.12297899, -0.10399344, -0.11697588, -0.13189286, -0.1054572 ,\n",
       "        -0.08455797, -0.09313284, -0.12001285, -0.07016861, -0.16175469,\n",
       "        -0.13766113, -0.11785113, -0.08273976, -0.08515565, -0.12086731,\n",
       "        -0.06944542, -0.06871477, -0.08515565, -0.10594082, -0.10448354,\n",
       "        -0.12213845, -0.14680805, -0.11341103, -0.12831636]])"
      ]
     },
     "execution_count": 83,
     "metadata": {},
     "output_type": "execute_result"
    }
   ],
   "source": [
    "X=Feature\n",
    "X= preprocessing.StandardScaler().fit_transform(X)\n",
    "X[0:5]"
   ]
  },
  {
   "cell_type": "code",
   "execution_count": 84,
   "metadata": {},
   "outputs": [
    {
     "data": {
      "text/plain": [
       "(10001, 89)"
      ]
     },
     "execution_count": 84,
     "metadata": {},
     "output_type": "execute_result"
    }
   ],
   "source": [
    "X_train,y_train = X,y\n",
    "X_train.shape"
   ]
  },
  {
   "cell_type": "code",
   "execution_count": 102,
   "metadata": {},
   "outputs": [
    {
     "name": "stdout",
     "output_type": "stream",
     "text": [
      "Place name    1\n",
      "Place type    1\n",
      "SuperType     1\n",
      "dtype: int64\n"
     ]
    }
   ],
   "source": [
    "\n",
    "df.fillna(df.mean())\n",
    "df.dropna()\n",
    "print(df.isnull().sum())"
   ]
  },
  {
   "cell_type": "code",
   "execution_count": 85,
   "metadata": {},
   "outputs": [
    {
     "data": {
      "text/plain": [
       "((7900, 89), (7900,), (2101, 89), (2101,))"
      ]
     },
     "execution_count": 85,
     "metadata": {},
     "output_type": "execute_result"
    }
   ],
   "source": [
    "from sklearn.neighbors import KNeighborsClassifier\n",
    "from sklearn.model_selection import train_test_split\n",
    "X_train,X_test,Y_train,Y_test = train_test_split (X, y, test_size = 0.21 ,random_state = 2)\n",
    "X_train.shape, Y_train.shape, X_test.shape, Y_test.shape\n"
   ]
  },
  {
   "cell_type": "code",
   "execution_count": 86,
   "metadata": {},
   "outputs": [
    {
     "data": {
      "text/plain": [
       "array([11.,  3.,  3., ...,  4.,  6., nan])"
      ]
     },
     "execution_count": 86,
     "metadata": {},
     "output_type": "execute_result"
    }
   ],
   "source": [
    "y"
   ]
  },
  {
   "cell_type": "code",
   "execution_count": 87,
   "metadata": {},
   "outputs": [
    {
     "ename": "ValueError",
     "evalue": "Input contains NaN, infinity or a value too large for dtype('float64').",
     "output_type": "error",
     "traceback": [
      "\u001b[1;31m---------------------------------------------------------------------------\u001b[0m",
      "\u001b[1;31mValueError\u001b[0m                                Traceback (most recent call last)",
      "\u001b[1;32m<ipython-input-87-e4b40e642fe7>\u001b[0m in \u001b[0;36m<module>\u001b[1;34m\u001b[0m\n\u001b[0;32m      4\u001b[0m \u001b[1;33m\u001b[0m\u001b[0m\n\u001b[0;32m      5\u001b[0m \u001b[1;32mfor\u001b[0m \u001b[0mn\u001b[0m \u001b[1;32min\u001b[0m \u001b[0mrange\u001b[0m \u001b[1;33m(\u001b[0m\u001b[1;36m1\u001b[0m\u001b[1;33m,\u001b[0m\u001b[0mK\u001b[0m\u001b[1;33m)\u001b[0m\u001b[1;33m:\u001b[0m\u001b[1;33m\u001b[0m\u001b[1;33m\u001b[0m\u001b[0m\n\u001b[1;32m----> 6\u001b[1;33m     \u001b[0mneig\u001b[0m \u001b[1;33m=\u001b[0m \u001b[0mKNeighborsClassifier\u001b[0m\u001b[1;33m(\u001b[0m\u001b[0mn_neighbors\u001b[0m \u001b[1;33m=\u001b[0m \u001b[0mn\u001b[0m\u001b[1;33m)\u001b[0m\u001b[1;33m.\u001b[0m\u001b[0mfit\u001b[0m\u001b[1;33m(\u001b[0m\u001b[0mX_train\u001b[0m\u001b[1;33m,\u001b[0m\u001b[0mY_train\u001b[0m\u001b[1;33m)\u001b[0m\u001b[1;33m\u001b[0m\u001b[1;33m\u001b[0m\u001b[0m\n\u001b[0m\u001b[0;32m      7\u001b[0m     \u001b[0my_hat\u001b[0m \u001b[1;33m=\u001b[0m \u001b[0mneig\u001b[0m\u001b[1;33m.\u001b[0m\u001b[0mpredict\u001b[0m\u001b[1;33m(\u001b[0m\u001b[0mX_test\u001b[0m\u001b[1;33m)\u001b[0m\u001b[1;33m\u001b[0m\u001b[1;33m\u001b[0m\u001b[0m\n\u001b[0;32m      8\u001b[0m     \u001b[0mmean_acc\u001b[0m\u001b[1;33m[\u001b[0m\u001b[0mn\u001b[0m\u001b[1;33m-\u001b[0m\u001b[1;36m1\u001b[0m\u001b[1;33m]\u001b[0m \u001b[1;33m=\u001b[0m \u001b[0mmetrics\u001b[0m\u001b[1;33m.\u001b[0m\u001b[0maccuracy_score\u001b[0m\u001b[1;33m(\u001b[0m\u001b[0mY_test\u001b[0m\u001b[1;33m,\u001b[0m\u001b[0my_hat\u001b[0m\u001b[1;33m)\u001b[0m\u001b[1;33m\u001b[0m\u001b[1;33m\u001b[0m\u001b[0m\n",
      "\u001b[1;32m~\\Anaconda3\\lib\\site-packages\\sklearn\\neighbors\\base.py\u001b[0m in \u001b[0;36mfit\u001b[1;34m(self, X, y)\u001b[0m\n\u001b[0;32m    890\u001b[0m         \"\"\"\n\u001b[0;32m    891\u001b[0m         \u001b[1;32mif\u001b[0m \u001b[1;32mnot\u001b[0m \u001b[0misinstance\u001b[0m\u001b[1;33m(\u001b[0m\u001b[0mX\u001b[0m\u001b[1;33m,\u001b[0m \u001b[1;33m(\u001b[0m\u001b[0mKDTree\u001b[0m\u001b[1;33m,\u001b[0m \u001b[0mBallTree\u001b[0m\u001b[1;33m)\u001b[0m\u001b[1;33m)\u001b[0m\u001b[1;33m:\u001b[0m\u001b[1;33m\u001b[0m\u001b[1;33m\u001b[0m\u001b[0m\n\u001b[1;32m--> 892\u001b[1;33m             \u001b[0mX\u001b[0m\u001b[1;33m,\u001b[0m \u001b[0my\u001b[0m \u001b[1;33m=\u001b[0m \u001b[0mcheck_X_y\u001b[0m\u001b[1;33m(\u001b[0m\u001b[0mX\u001b[0m\u001b[1;33m,\u001b[0m \u001b[0my\u001b[0m\u001b[1;33m,\u001b[0m \u001b[1;34m\"csr\"\u001b[0m\u001b[1;33m,\u001b[0m \u001b[0mmulti_output\u001b[0m\u001b[1;33m=\u001b[0m\u001b[1;32mTrue\u001b[0m\u001b[1;33m)\u001b[0m\u001b[1;33m\u001b[0m\u001b[1;33m\u001b[0m\u001b[0m\n\u001b[0m\u001b[0;32m    893\u001b[0m \u001b[1;33m\u001b[0m\u001b[0m\n\u001b[0;32m    894\u001b[0m         \u001b[1;32mif\u001b[0m \u001b[0my\u001b[0m\u001b[1;33m.\u001b[0m\u001b[0mndim\u001b[0m \u001b[1;33m==\u001b[0m \u001b[1;36m1\u001b[0m \u001b[1;32mor\u001b[0m \u001b[0my\u001b[0m\u001b[1;33m.\u001b[0m\u001b[0mndim\u001b[0m \u001b[1;33m==\u001b[0m \u001b[1;36m2\u001b[0m \u001b[1;32mand\u001b[0m \u001b[0my\u001b[0m\u001b[1;33m.\u001b[0m\u001b[0mshape\u001b[0m\u001b[1;33m[\u001b[0m\u001b[1;36m1\u001b[0m\u001b[1;33m]\u001b[0m \u001b[1;33m==\u001b[0m \u001b[1;36m1\u001b[0m\u001b[1;33m:\u001b[0m\u001b[1;33m\u001b[0m\u001b[1;33m\u001b[0m\u001b[0m\n",
      "\u001b[1;32m~\\Anaconda3\\lib\\site-packages\\sklearn\\utils\\validation.py\u001b[0m in \u001b[0;36mcheck_X_y\u001b[1;34m(X, y, accept_sparse, accept_large_sparse, dtype, order, copy, force_all_finite, ensure_2d, allow_nd, multi_output, ensure_min_samples, ensure_min_features, y_numeric, warn_on_dtype, estimator)\u001b[0m\n\u001b[0;32m    720\u001b[0m     \u001b[1;32mif\u001b[0m \u001b[0mmulti_output\u001b[0m\u001b[1;33m:\u001b[0m\u001b[1;33m\u001b[0m\u001b[1;33m\u001b[0m\u001b[0m\n\u001b[0;32m    721\u001b[0m         y = check_array(y, 'csr', force_all_finite=True, ensure_2d=False,\n\u001b[1;32m--> 722\u001b[1;33m                         dtype=None)\n\u001b[0m\u001b[0;32m    723\u001b[0m     \u001b[1;32melse\u001b[0m\u001b[1;33m:\u001b[0m\u001b[1;33m\u001b[0m\u001b[1;33m\u001b[0m\u001b[0m\n\u001b[0;32m    724\u001b[0m         \u001b[0my\u001b[0m \u001b[1;33m=\u001b[0m \u001b[0mcolumn_or_1d\u001b[0m\u001b[1;33m(\u001b[0m\u001b[0my\u001b[0m\u001b[1;33m,\u001b[0m \u001b[0mwarn\u001b[0m\u001b[1;33m=\u001b[0m\u001b[1;32mTrue\u001b[0m\u001b[1;33m)\u001b[0m\u001b[1;33m\u001b[0m\u001b[1;33m\u001b[0m\u001b[0m\n",
      "\u001b[1;32m~\\Anaconda3\\lib\\site-packages\\sklearn\\utils\\validation.py\u001b[0m in \u001b[0;36mcheck_array\u001b[1;34m(array, accept_sparse, accept_large_sparse, dtype, order, copy, force_all_finite, ensure_2d, allow_nd, ensure_min_samples, ensure_min_features, warn_on_dtype, estimator)\u001b[0m\n\u001b[0;32m    540\u001b[0m         \u001b[1;32mif\u001b[0m \u001b[0mforce_all_finite\u001b[0m\u001b[1;33m:\u001b[0m\u001b[1;33m\u001b[0m\u001b[1;33m\u001b[0m\u001b[0m\n\u001b[0;32m    541\u001b[0m             _assert_all_finite(array,\n\u001b[1;32m--> 542\u001b[1;33m                                allow_nan=force_all_finite == 'allow-nan')\n\u001b[0m\u001b[0;32m    543\u001b[0m \u001b[1;33m\u001b[0m\u001b[0m\n\u001b[0;32m    544\u001b[0m     \u001b[1;32mif\u001b[0m \u001b[0mensure_min_samples\u001b[0m \u001b[1;33m>\u001b[0m \u001b[1;36m0\u001b[0m\u001b[1;33m:\u001b[0m\u001b[1;33m\u001b[0m\u001b[1;33m\u001b[0m\u001b[0m\n",
      "\u001b[1;32m~\\Anaconda3\\lib\\site-packages\\sklearn\\utils\\validation.py\u001b[0m in \u001b[0;36m_assert_all_finite\u001b[1;34m(X, allow_nan)\u001b[0m\n\u001b[0;32m     54\u001b[0m                 not allow_nan and not np.isfinite(X).all()):\n\u001b[0;32m     55\u001b[0m             \u001b[0mtype_err\u001b[0m \u001b[1;33m=\u001b[0m \u001b[1;34m'infinity'\u001b[0m \u001b[1;32mif\u001b[0m \u001b[0mallow_nan\u001b[0m \u001b[1;32melse\u001b[0m \u001b[1;34m'NaN, infinity'\u001b[0m\u001b[1;33m\u001b[0m\u001b[1;33m\u001b[0m\u001b[0m\n\u001b[1;32m---> 56\u001b[1;33m             \u001b[1;32mraise\u001b[0m \u001b[0mValueError\u001b[0m\u001b[1;33m(\u001b[0m\u001b[0mmsg_err\u001b[0m\u001b[1;33m.\u001b[0m\u001b[0mformat\u001b[0m\u001b[1;33m(\u001b[0m\u001b[0mtype_err\u001b[0m\u001b[1;33m,\u001b[0m \u001b[0mX\u001b[0m\u001b[1;33m.\u001b[0m\u001b[0mdtype\u001b[0m\u001b[1;33m)\u001b[0m\u001b[1;33m)\u001b[0m\u001b[1;33m\u001b[0m\u001b[1;33m\u001b[0m\u001b[0m\n\u001b[0m\u001b[0;32m     57\u001b[0m     \u001b[1;31m# for object dtype data, we only check for NaNs (GH-13254)\u001b[0m\u001b[1;33m\u001b[0m\u001b[1;33m\u001b[0m\u001b[1;33m\u001b[0m\u001b[0m\n\u001b[0;32m     58\u001b[0m     \u001b[1;32melif\u001b[0m \u001b[0mX\u001b[0m\u001b[1;33m.\u001b[0m\u001b[0mdtype\u001b[0m \u001b[1;33m==\u001b[0m \u001b[0mnp\u001b[0m\u001b[1;33m.\u001b[0m\u001b[0mdtype\u001b[0m\u001b[1;33m(\u001b[0m\u001b[1;34m'object'\u001b[0m\u001b[1;33m)\u001b[0m \u001b[1;32mand\u001b[0m \u001b[1;32mnot\u001b[0m \u001b[0mallow_nan\u001b[0m\u001b[1;33m:\u001b[0m\u001b[1;33m\u001b[0m\u001b[1;33m\u001b[0m\u001b[0m\n",
      "\u001b[1;31mValueError\u001b[0m: Input contains NaN, infinity or a value too large for dtype('float64')."
     ]
    }
   ],
   "source": [
    "K=20\n",
    "mean_acc = np.zeros((K-1))\n",
    "\n",
    "\n",
    "for n in range (1,K):\n",
    "    neig = KNeighborsClassifier(n_neighbors = n).fit(X_train,Y_train)\n",
    "    y_hat = neig.predict(X_test)\n",
    "    mean_acc[n-1] = metrics.accuracy_score(Y_test,y_hat)\n",
    "    \n",
    "print(mean_acc)\n",
    "\n",
    "print(\"\\n\\nThe best accuracy is \",mean_acc.max(), \"where the number of neighbors is \",mean_acc.argmax()+1)"
   ]
  }
 ],
 "metadata": {
  "kernelspec": {
   "display_name": "Python 3",
   "language": "python",
   "name": "python3"
  },
  "language_info": {
   "codemirror_mode": {
    "name": "ipython",
    "version": 3
   },
   "file_extension": ".py",
   "mimetype": "text/x-python",
   "name": "python",
   "nbconvert_exporter": "python",
   "pygments_lexer": "ipython3",
   "version": "3.7.4"
  }
 },
 "nbformat": 4,
 "nbformat_minor": 2
}
